{
 "cells": [
  {
   "cell_type": "code",
   "execution_count": null,
   "id": "cf3e4c78",
   "metadata": {},
   "outputs": [],
   "source": [
    "#1 #How do we create numerical variables in python?"
   ]
  },
  {
   "cell_type": "code",
   "execution_count": 3,
   "id": "8786bf09",
   "metadata": {},
   "outputs": [
    {
     "data": {
      "text/plain": [
       "int"
      ]
     },
     "execution_count": 3,
     "metadata": {},
     "output_type": "execute_result"
    }
   ],
   "source": [
    "d=5\n",
    "type(d)"
   ]
  },
  {
   "cell_type": "code",
   "execution_count": null,
   "id": "c62ffa19",
   "metadata": {},
   "outputs": [],
   "source": [
    "#2  #How do we perform calculations in python?"
   ]
  },
  {
   "cell_type": "code",
   "execution_count": 5,
   "id": "340ac85b",
   "metadata": {},
   "outputs": [],
   "source": [
    "#radius = diameter / 2\n",
    "#area = pi * radius * radius\n",
    "def radius(d):\n",
    "    radius=d/2\n",
    "    return radius"
   ]
  },
  {
   "cell_type": "code",
   "execution_count": 6,
   "id": "8f08d5f2",
   "metadata": {},
   "outputs": [
    {
     "data": {
      "text/plain": [
       "5.0"
      ]
     },
     "execution_count": 6,
     "metadata": {},
     "output_type": "execute_result"
    }
   ],
   "source": [
    "radius(10)"
   ]
  },
  {
   "cell_type": "code",
   "execution_count": 7,
   "id": "97355cd6",
   "metadata": {},
   "outputs": [],
   "source": [
    "def area(pi,radius):\n",
    "    area=pi*radius*radius\n",
    "    return area"
   ]
  },
  {
   "cell_type": "code",
   "execution_count": 8,
   "id": "fe193008",
   "metadata": {},
   "outputs": [
    {
     "data": {
      "text/plain": [
       "1384.74"
      ]
     },
     "execution_count": 8,
     "metadata": {},
     "output_type": "execute_result"
    }
   ],
   "source": [
    "area(3.14,21)"
   ]
  },
  {
   "cell_type": "code",
   "execution_count": null,
   "id": "b12f44b5",
   "metadata": {},
   "outputs": [],
   "source": [
    "#3  #Give an example of BODMAS in python?"
   ]
  },
  {
   "cell_type": "code",
   "execution_count": 17,
   "id": "37488c17",
   "metadata": {},
   "outputs": [
    {
     "name": "stdout",
     "output_type": "stream",
     "text": [
      "33\n"
     ]
    }
   ],
   "source": [
    "a=(8+9)+(3-1)*8\n",
    "print(a)"
   ]
  },
  {
   "cell_type": "code",
   "execution_count": null,
   "id": "52e7f6c4",
   "metadata": {},
   "outputs": [],
   "source": [
    "#4  #Give examples of list?"
   ]
  },
  {
   "cell_type": "code",
   "execution_count": 24,
   "id": "d36ef403",
   "metadata": {},
   "outputs": [],
   "source": [
    "l=[1,2,3,4,5,6,7,(7,8,9)]"
   ]
  },
  {
   "cell_type": "code",
   "execution_count": 25,
   "id": "d91a9be9",
   "metadata": {},
   "outputs": [
    {
     "data": {
      "text/plain": [
       "8"
      ]
     },
     "execution_count": 25,
     "metadata": {},
     "output_type": "execute_result"
    }
   ],
   "source": [
    "len(l)"
   ]
  },
  {
   "cell_type": "code",
   "execution_count": null,
   "id": "2cda9b91",
   "metadata": {},
   "outputs": [],
   "source": [
    "#5. How do we interchange the values of two lists?"
   ]
  },
  {
   "cell_type": "code",
   "execution_count": 30,
   "id": "b1eecc11",
   "metadata": {},
   "outputs": [
    {
     "name": "stdout",
     "output_type": "stream",
     "text": [
      "23456\n",
      "9879\n"
     ]
    }
   ],
   "source": [
    "a=[int(i) for i in input()]\n",
    "b=[int(i) for i in input()]\n"
   ]
  },
  {
   "cell_type": "code",
   "execution_count": 31,
   "id": "809cb893",
   "metadata": {},
   "outputs": [
    {
     "data": {
      "text/plain": [
       "[2, 3, 4, 5, 6]"
      ]
     },
     "execution_count": 31,
     "metadata": {},
     "output_type": "execute_result"
    }
   ],
   "source": [
    "a"
   ]
  },
  {
   "cell_type": "code",
   "execution_count": 32,
   "id": "85ffc7e8",
   "metadata": {},
   "outputs": [
    {
     "data": {
      "text/plain": [
       "[9, 8, 7, 9]"
      ]
     },
     "execution_count": 32,
     "metadata": {},
     "output_type": "execute_result"
    }
   ],
   "source": [
    "b"
   ]
  },
  {
   "cell_type": "code",
   "execution_count": 33,
   "id": "825a3cc5",
   "metadata": {},
   "outputs": [],
   "source": [
    "a,b=b,a"
   ]
  },
  {
   "cell_type": "code",
   "execution_count": 34,
   "id": "ae3b9205",
   "metadata": {},
   "outputs": [
    {
     "data": {
      "text/plain": [
       "[9, 8, 7, 9]"
      ]
     },
     "execution_count": 34,
     "metadata": {},
     "output_type": "execute_result"
    }
   ],
   "source": [
    "a"
   ]
  },
  {
   "cell_type": "code",
   "execution_count": 35,
   "id": "b7993d57",
   "metadata": {},
   "outputs": [
    {
     "data": {
      "text/plain": [
       "[2, 3, 4, 5, 6]"
      ]
     },
     "execution_count": 35,
     "metadata": {},
     "output_type": "execute_result"
    }
   ],
   "source": [
    "b"
   ]
  },
  {
   "cell_type": "code",
   "execution_count": null,
   "id": "43bc0b56",
   "metadata": {},
   "outputs": [],
   "source": [
    "#6. How do we extract values from list?"
   ]
  },
  {
   "cell_type": "code",
   "execution_count": 37,
   "id": "7ff04f25",
   "metadata": {},
   "outputs": [],
   "source": [
    "a=['apple','orange','banana']"
   ]
  },
  {
   "cell_type": "code",
   "execution_count": 38,
   "id": "a7953d51",
   "metadata": {},
   "outputs": [
    {
     "data": {
      "text/plain": [
       "'apple'"
      ]
     },
     "execution_count": 38,
     "metadata": {},
     "output_type": "execute_result"
    }
   ],
   "source": [
    "a[0]"
   ]
  },
  {
   "cell_type": "code",
   "execution_count": null,
   "id": "c1e6f98c",
   "metadata": {},
   "outputs": [],
   "source": [
    "#7. How we create loops in python using list?"
   ]
  },
  {
   "cell_type": "code",
   "execution_count": 39,
   "id": "bead2542",
   "metadata": {},
   "outputs": [],
   "source": [
    "l=['SASi','prathe','mani']"
   ]
  },
  {
   "cell_type": "code",
   "execution_count": 41,
   "id": "cdd1e8bc",
   "metadata": {},
   "outputs": [
    {
     "name": "stdout",
     "output_type": "stream",
     "text": [
      "prathe\n"
     ]
    }
   ],
   "source": [
    "for i in l:\n",
    "    if i=='prathe':\n",
    "         print(i)"
   ]
  },
  {
   "cell_type": "code",
   "execution_count": null,
   "id": "1305bd76",
   "metadata": {},
   "outputs": [],
   "source": [
    "#8. Give examples of String?"
   ]
  },
  {
   "cell_type": "code",
   "execution_count": 43,
   "id": "7d80f114",
   "metadata": {},
   "outputs": [
    {
     "name": "stdout",
     "output_type": "stream",
     "text": [
      "enter the stringsasi\n",
      "sasi\n"
     ]
    }
   ],
   "source": [
    "h=input('enter the string')\n",
    "print(h)"
   ]
  },
  {
   "cell_type": "code",
   "execution_count": null,
   "id": "4752ac83",
   "metadata": {},
   "outputs": [],
   "source": [
    "#9. Give an example of Boolean?"
   ]
  },
  {
   "cell_type": "code",
   "execution_count": 44,
   "id": "afb6ecfe",
   "metadata": {},
   "outputs": [
    {
     "data": {
      "text/plain": [
       "True"
      ]
     },
     "execution_count": 44,
     "metadata": {},
     "output_type": "execute_result"
    }
   ],
   "source": [
    "1!=2"
   ]
  },
  {
   "cell_type": "code",
   "execution_count": null,
   "id": "dc806d32",
   "metadata": {},
   "outputs": [],
   "source": [
    "#10. How do we perform operations on Boolean?"
   ]
  },
  {
   "cell_type": "code",
   "execution_count": 45,
   "id": "1329b8c5",
   "metadata": {},
   "outputs": [
    {
     "name": "stdout",
     "output_type": "stream",
     "text": [
      "True\n",
      "True\n"
     ]
    }
   ],
   "source": [
    "x = \"Hello\"\n",
    "y = 15\n",
    "\n",
    "print(bool(x))\n",
    "print(bool(y))"
   ]
  },
  {
   "cell_type": "code",
   "execution_count": 50,
   "id": "9c3a57f3",
   "metadata": {},
   "outputs": [
    {
     "name": "stdout",
     "output_type": "stream",
     "text": [
      "YES!\n"
     ]
    }
   ],
   "source": [
    "def myFunction() :\n",
    "     return True\n",
    "\n",
    "if myFunction():\n",
    "  print(\"YES!\")\n",
    "else:\n",
    "  print(\"NO!\")"
   ]
  },
  {
   "cell_type": "code",
   "execution_count": null,
   "id": "800d66bc",
   "metadata": {},
   "outputs": [],
   "source": [
    "#11  What are function in python?"
   ]
  },
  {
   "cell_type": "code",
   "execution_count": 1,
   "id": "8e0614b4",
   "metadata": {},
   "outputs": [],
   "source": [
    "def add(a,b):\n",
    "    add=a+b\n",
    "    return add"
   ]
  },
  {
   "cell_type": "code",
   "execution_count": 2,
   "id": "683352e3",
   "metadata": {},
   "outputs": [
    {
     "data": {
      "text/plain": [
       "3"
      ]
     },
     "execution_count": 2,
     "metadata": {},
     "output_type": "execute_result"
    }
   ],
   "source": [
    "add(1,2)"
   ]
  },
  {
   "cell_type": "code",
   "execution_count": null,
   "id": "83581eb0",
   "metadata": {},
   "outputs": [],
   "source": [
    "#12. Calculating remainder in python?"
   ]
  },
  {
   "cell_type": "code",
   "execution_count": 3,
   "id": "6aa7f08f",
   "metadata": {},
   "outputs": [],
   "source": [
    "def dev(a,d):\n",
    "    dev=a%d\n",
    "    return dev"
   ]
  },
  {
   "cell_type": "code",
   "execution_count": 5,
   "id": "55cacf05",
   "metadata": {},
   "outputs": [
    {
     "data": {
      "text/plain": [
       "2"
      ]
     },
     "execution_count": 5,
     "metadata": {},
     "output_type": "execute_result"
    }
   ],
   "source": [
    "dev(2,4)"
   ]
  },
  {
   "cell_type": "code",
   "execution_count": null,
   "id": "6c570c6e",
   "metadata": {},
   "outputs": [],
   "source": [
    "#13. Who created python?"
   ]
  },
  {
   "cell_type": "code",
   "execution_count": null,
   "id": "469cdacd",
   "metadata": {},
   "outputs": [],
   "source": [
    "guido van rossum"
   ]
  },
  {
   "cell_type": "code",
   "execution_count": null,
   "id": "28e48d7c",
   "metadata": {},
   "outputs": [],
   "source": []
  },
  {
   "cell_type": "code",
   "execution_count": null,
   "id": "40d66636",
   "metadata": {},
   "outputs": [],
   "source": []
  },
  {
   "cell_type": "code",
   "execution_count": null,
   "id": "6b6f6ad4",
   "metadata": {},
   "outputs": [],
   "source": []
  },
  {
   "cell_type": "code",
   "execution_count": null,
   "id": "6684ef05",
   "metadata": {},
   "outputs": [],
   "source": []
  }
 ],
 "metadata": {
  "kernelspec": {
   "display_name": "Python 3",
   "language": "python",
   "name": "python3"
  },
  "language_info": {
   "codemirror_mode": {
    "name": "ipython",
    "version": 3
   },
   "file_extension": ".py",
   "mimetype": "text/x-python",
   "name": "python",
   "nbconvert_exporter": "python",
   "pygments_lexer": "ipython3",
   "version": "3.8.8"
  }
 },
 "nbformat": 4,
 "nbformat_minor": 5
}
